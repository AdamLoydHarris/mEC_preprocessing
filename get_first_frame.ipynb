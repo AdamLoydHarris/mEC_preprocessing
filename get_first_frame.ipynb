{
 "cells": [
  {
   "cell_type": "code",
   "execution_count": 2,
   "metadata": {},
   "outputs": [
    {
     "name": "stdout",
     "output_type": "stream",
     "text": [
      "First frame saved as /Users/AdamHarris/Desktop/cohort10_masks/maze1.jpg\n"
     ]
    }
   ],
   "source": [
    "import cv2\n",
    "\n",
    "def save_first_frame_as_jpeg(video_path, output_path):\n",
    "    # Open the video file\n",
    "    cap = cv2.VideoCapture(video_path)\n",
    "    \n",
    "    # Check if the video file opened successfully\n",
    "    if not cap.isOpened():\n",
    "        print(\"Error: Could not open video.\")\n",
    "        return\n",
    "    \n",
    "    # Read the first frame\n",
    "    ret, frame = cap.read()\n",
    "    \n",
    "    # Check if the frame was read successfully\n",
    "    if not ret:\n",
    "        print(\"Error: Could not read frame.\")\n",
    "        return\n",
    "    \n",
    "    # Save the frame as a jpeg image\n",
    "    cv2.imwrite(output_path, frame)\n",
    "    \n",
    "    # Release the video capture object\n",
    "    cap.release()\n",
    "    print(f\"First frame saved as {output_path}\")\n",
    "\n",
    "# Example usage\n",
    "video_path = '/Users/AdamHarris/Desktop/cohort10_masks/c2m5_2025-03-12-133449.mp4'\n",
    "output_path = '/Users/AdamHarris/Desktop/cohort10_masks/maze1.jpg'\n",
    "save_first_frame_as_jpeg(video_path, output_path)"
   ]
  },
  {
   "cell_type": "code",
   "execution_count": 7,
   "metadata": {},
   "outputs": [
    {
     "name": "stdout",
     "output_type": "stream",
     "text": [
      "{'c1m1_2025-03-12-114243.mp4': 90627, 'c1m2_2025-03-12-114243.mp4': 90538, 'c1m4_2025-03-12-121432.mp4': 80305, 'c1m3_2025-03-12-121432.mp4': 80369, 'c2m2_2025-03-12-124029.mp4': 88977, 'c2m1_2025-03-12-124029.mp4': 89053, 'c2m3_2025-03-12-130802.mp4': 81043, 'c2m4_2025-03-12-130802.mp4': 80978, 'c3m2_2025-03-12-133449.mp4': 88127, 'c2m5_2025-03-12-133449.mp4': 88204, 'c3m3_2025-03-12-140052.mp4': 89495, 'c3m4_2025-03-12-140052.mp4': 89423, 'c3m5_2025-03-12-143059.mp4': 84433, 'c3m1_2025-03-13-112648.mp4': 82086}\n"
     ]
    }
   ],
   "source": [
    "import os\n",
    "from datetime import datetime\n",
    "\n",
    "vids_paths = '/Users/AdamHarris/Desktop/exploration_videos'\n",
    "\n",
    "# List all video files in the directory\n",
    "video_files = [f for f in os.listdir(vids_paths) if f.endswith('.mp4')]\n",
    "\n",
    "# Dictionary to store the filename and frame count\n",
    "frame_counts = {}\n",
    "\n",
    "for video_file in video_files:\n",
    "    video_path = os.path.join(vids_paths, video_file)\n",
    "    cap = cv2.VideoCapture(video_path)\n",
    "    \n",
    "    if not cap.isOpened():\n",
    "        print(f\"Error: Could not open video {video_file}\")\n",
    "        continue\n",
    "    \n",
    "    # Get the total number of frames\n",
    "    num_frames = int(cap.get(cv2.CAP_PROP_FRAME_COUNT))\n",
    "    \n",
    "    # Save the filename and the number of frames to the dictionary\n",
    "    frame_counts[video_file] = num_frames\n",
    "    \n",
    "    cap.release()\n",
    "\n",
    "# Function to extract datetime from filename\n",
    "def extract_datetime(filename):\n",
    "    # Assuming the datetime stamp is in the format YYYY-MM-DD-HHMMSS\n",
    "    datetime_str = filename.split('_')[1].split('.')[0]\n",
    "    return datetime.strptime(datetime_str, '%Y-%m-%d-%H%M%S')\n",
    "\n",
    "# Sort the dictionary by datetime stamp in the filename\n",
    "sorted_frame_counts = dict(sorted(frame_counts.items(), key=lambda item: extract_datetime(item[0])))\n",
    "\n",
    "print(sorted_frame_counts)"
   ]
  },
  {
   "cell_type": "code",
   "execution_count": 8,
   "metadata": {},
   "outputs": [
    {
     "data": {
      "text/plain": [
       "{'c1m1_2025-03-12-114243.mp4': 90627,\n",
       " 'c1m2_2025-03-12-114243.mp4': 90538,\n",
       " 'c1m4_2025-03-12-121432.mp4': 80305,\n",
       " 'c1m3_2025-03-12-121432.mp4': 80369,\n",
       " 'c2m2_2025-03-12-124029.mp4': 88977,\n",
       " 'c2m1_2025-03-12-124029.mp4': 89053,\n",
       " 'c2m3_2025-03-12-130802.mp4': 81043,\n",
       " 'c2m4_2025-03-12-130802.mp4': 80978,\n",
       " 'c3m2_2025-03-12-133449.mp4': 88127,\n",
       " 'c2m5_2025-03-12-133449.mp4': 88204,\n",
       " 'c3m3_2025-03-12-140052.mp4': 89495,\n",
       " 'c3m4_2025-03-12-140052.mp4': 89423,\n",
       " 'c3m5_2025-03-12-143059.mp4': 84433,\n",
       " 'c3m1_2025-03-13-112648.mp4': 82086}"
      ]
     },
     "execution_count": 8,
     "metadata": {},
     "output_type": "execute_result"
    }
   ],
   "source": [
    "sorted_frame_counts"
   ]
  },
  {
   "cell_type": "code",
   "execution_count": null,
   "metadata": {},
   "outputs": [],
   "source": []
  }
 ],
 "metadata": {
  "kernelspec": {
   "display_name": "base",
   "language": "python",
   "name": "python3"
  },
  "language_info": {
   "codemirror_mode": {
    "name": "ipython",
    "version": 3
   },
   "file_extension": ".py",
   "mimetype": "text/x-python",
   "name": "python",
   "nbconvert_exporter": "python",
   "pygments_lexer": "ipython3",
   "version": "3.11.6"
  }
 },
 "nbformat": 4,
 "nbformat_minor": 2
}
